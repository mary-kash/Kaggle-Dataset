{
  "nbformat": 4,
  "nbformat_minor": 0,
  "metadata": {
    "colab": {
      "name": "Kaggle_dataset.ipynb",
      "provenance": [],
      "collapsed_sections": []
    },
    "kernelspec": {
      "display_name": "Python 3",
      "name": "python3"
    },
    "language_info": {
      "name": "python"
    }
  },
  "cells": [
    {
      "cell_type": "code",
      "metadata": {
        "id": "Jnnr1Nrpup6I"
      },
      "source": [
        "# %pip install -q torchaudio==0.10.0+cu111 -f https://download.pytorch.org/whl/cu111/torch_stable.html\n",
        "# !pip install torchaudio"
      ],
      "execution_count": null,
      "outputs": []
    },
    {
      "cell_type": "code",
      "metadata": {
        "colab": {
          "base_uri": "https://localhost:8080/"
        },
        "id": "ESfa9qvbickV",
        "outputId": "bf60afb1-e96b-4b60-8b50-9525eda57084"
      },
      "source": [
        "from google.colab import drive\n",
        "drive.mount('/content/drive', force_remount=True)"
      ],
      "execution_count": null,
      "outputs": [
        {
          "output_type": "stream",
          "name": "stdout",
          "text": [
            "Mounted at /content/drive\n"
          ]
        }
      ]
    },
    {
      "cell_type": "code",
      "metadata": {
        "id": "brRYwkf-SNfN"
      },
      "source": [
        "import pandas  as pd\n",
        "import numpy   as np\n",
        "import librosa as lb\n",
        "import seaborn as sbn\n",
        "import torchaudio\n",
        "import glob, os\n",
        "import matplotlib.pyplot as plt\n",
        "from   scipy   import signal\n",
        "from   sklearn import svm, metrics\n",
        "from   sklearn import naive_bayes\n",
        "from   sklearn.model_selection import train_test_split\n",
        "from   sklearn.preprocessing import MinMaxScaler\n",
        "from   sklearn.tree import DecisionTreeClassifier\n",
        "from   sklearn.preprocessing import LabelEncoder\n",
        "from   sklearn.ensemble import VotingClassifier\n",
        "from   sklearn.ensemble import RandomForestClassifier\n",
        "from   sklearn.ensemble import ExtraTreesClassifier\n",
        "from   imblearn.over_sampling import BorderlineSMOTE\n",
        "from   imblearn.over_sampling import SMOTE\n",
        "from   imblearn.under_sampling import RandomUnderSampler\n",
        "from   imblearn.pipeline  import Pipeline"
      ],
      "execution_count": null,
      "outputs": []
    },
    {
      "cell_type": "markdown",
      "metadata": {
        "id": "f-4f-Wlo3TB3"
      },
      "source": [
        "Parameter definition:"
      ]
    },
    {
      "cell_type": "code",
      "metadata": {
        "id": "Gkokhw6j3XdO"
      },
      "source": [
        "# filter parameters\n",
        "l_cut = 120\n",
        "h_cut = 1800\n",
        "order = 12"
      ],
      "execution_count": null,
      "outputs": []
    },
    {
      "cell_type": "markdown",
      "metadata": {
        "id": "vyrPk6qLUYVQ"
      },
      "source": [
        "Defining data directory:"
      ]
    },
    {
      "cell_type": "code",
      "metadata": {
        "id": "RcuABlFUUXao"
      },
      "source": [
        "data_path=\"/content/drive/MyDrive/Respiratory Data\" #/Data/Respiratory_Sound_Database\""
      ],
      "execution_count": null,
      "outputs": []
    },
    {
      "cell_type": "markdown",
      "metadata": {
        "id": "J86GypyOUMcR"
      },
      "source": [
        "Reading patients diagnostic info, creating new labels:"
      ]
    },
    {
      "cell_type": "code",
      "metadata": {
        "id": "efcBtoLDi6R2",
        "colab": {
          "base_uri": "https://localhost:8080/",
          "height": 204
        },
        "outputId": "ca77e289-b8e0-433c-aa5d-f61ac884eefe"
      },
      "source": [
        "diagnosis_data=pd.read_csv(data_path+'/patient_diagnosis.csv',names=['ID','disease'])\n",
        "lst=[]\n",
        "for index,row in diagnosis_data.iterrows():\n",
        "    if row['disease']=='Healthy':\n",
        "        condition = 'Healthy'\n",
        "    else:\n",
        "        condition = 'Unhealthy'\n",
        "    lst.append(condition)\n",
        "diagnosis_data['Condition'] = lst\n",
        "diagnosis_data.head()"
      ],
      "execution_count": null,
      "outputs": [
        {
          "output_type": "execute_result",
          "data": {
            "text/html": [
              "<div>\n",
              "<style scoped>\n",
              "    .dataframe tbody tr th:only-of-type {\n",
              "        vertical-align: middle;\n",
              "    }\n",
              "\n",
              "    .dataframe tbody tr th {\n",
              "        vertical-align: top;\n",
              "    }\n",
              "\n",
              "    .dataframe thead th {\n",
              "        text-align: right;\n",
              "    }\n",
              "</style>\n",
              "<table border=\"1\" class=\"dataframe\">\n",
              "  <thead>\n",
              "    <tr style=\"text-align: right;\">\n",
              "      <th></th>\n",
              "      <th>ID</th>\n",
              "      <th>disease</th>\n",
              "      <th>Condition</th>\n",
              "    </tr>\n",
              "  </thead>\n",
              "  <tbody>\n",
              "    <tr>\n",
              "      <th>0</th>\n",
              "      <td>101</td>\n",
              "      <td>URTI</td>\n",
              "      <td>Unhealthy</td>\n",
              "    </tr>\n",
              "    <tr>\n",
              "      <th>1</th>\n",
              "      <td>102</td>\n",
              "      <td>Healthy</td>\n",
              "      <td>Healthy</td>\n",
              "    </tr>\n",
              "    <tr>\n",
              "      <th>2</th>\n",
              "      <td>103</td>\n",
              "      <td>Asthma</td>\n",
              "      <td>Unhealthy</td>\n",
              "    </tr>\n",
              "    <tr>\n",
              "      <th>3</th>\n",
              "      <td>104</td>\n",
              "      <td>COPD</td>\n",
              "      <td>Unhealthy</td>\n",
              "    </tr>\n",
              "    <tr>\n",
              "      <th>4</th>\n",
              "      <td>105</td>\n",
              "      <td>URTI</td>\n",
              "      <td>Unhealthy</td>\n",
              "    </tr>\n",
              "  </tbody>\n",
              "</table>\n",
              "</div>"
            ],
            "text/plain": [
              "    ID  disease  Condition\n",
              "0  101     URTI  Unhealthy\n",
              "1  102  Healthy    Healthy\n",
              "2  103   Asthma  Unhealthy\n",
              "3  104     COPD  Unhealthy\n",
              "4  105     URTI  Unhealthy"
            ]
          },
          "metadata": {},
          "execution_count": 9
        }
      ]
    },
    {
      "cell_type": "code",
      "metadata": {
        "id": "Em0C9t7WpgM9",
        "colab": {
          "base_uri": "https://localhost:8080/",
          "height": 413
        },
        "outputId": "c3950596-c8b8-4f83-8f84-50b3dd3d9049"
      },
      "source": [
        "sbn.countplot(diagnosis_data.disease)\n",
        "plt.xticks(rotation=90)"
      ],
      "execution_count": null,
      "outputs": [
        {
          "output_type": "stream",
          "name": "stderr",
          "text": [
            "/usr/local/lib/python3.7/dist-packages/seaborn/_decorators.py:43: FutureWarning: Pass the following variable as a keyword arg: x. From version 0.12, the only valid positional argument will be `data`, and passing other arguments without an explicit keyword will result in an error or misinterpretation.\n",
            "  FutureWarning\n"
          ]
        },
        {
          "output_type": "execute_result",
          "data": {
            "text/plain": [
              "(array([0, 1, 2, 3, 4, 5, 6, 7]), <a list of 8 Text major ticklabel objects>)"
            ]
          },
          "metadata": {},
          "execution_count": 10
        },
        {
          "output_type": "display_data",
          "data": {
            "image/png": "[encoded data removed]",
            "text/plain": [
              "<Figure size 432x288 with 1 Axes>"
            ]
          },
          "metadata": {
            "needs_background": "light"
          }
        }
      ]
    },
    {
      "cell_type": "markdown",
      "metadata": {
        "id": "d6jrsUUyfNKk"
      },
      "source": [
        "Extracting record info from file names:"
      ]
    },
    {
      "cell_type": "code",
      "metadata": {
        "id": "JOqnr4_VfVmL",
        "colab": {
          "base_uri": "https://localhost:8080/",
          "height": 204
        },
        "outputId": "2a7a40cf-8c0d-4961-97cb-19c32aff0255"
      },
      "source": [
        "#os.chdir(data_path+'/audio_and_txt_files')\n",
        "os.chdir(data_path)\n",
        "file_name  = []\n",
        "patient_id = []\n",
        "record_inx = []\n",
        "chest_loc  = []\n",
        "aqu_mode   = []\n",
        "record_equ = []\n",
        "\n",
        "for file in glob.glob('*.txt'):\n",
        "    name = file.split('.')[0]\n",
        "    file_name.append(name)\n",
        "    patient_id.append(name.split('_')[0])\n",
        "    record_inx.append(name.split('_')[1])\n",
        "    chest_loc.append(name.split('_')[2])\n",
        "    aqu_mode.append(name.split('_')[3])\n",
        "    record_equ.append(name.split('_')[4])\n",
        "\n",
        "patient_id = [int(i) for i in patient_id]\n",
        "attributes = list(zip(patient_id,file_name,record_inx,chest_loc,aqu_mode,record_equ))\n",
        "column     = ['ID','file','Record Ind','Location','Mode','Equipment ']\n",
        "info_df   = pd.DataFrame(attributes,columns=column)\n",
        "info_df.head()"
      ],
      "execution_count": null,
      "outputs": [
        {
          "output_type": "execute_result",
          "data": {
            "text/html": [
              "<div>\n",
              "<style scoped>\n",
              "    .dataframe tbody tr th:only-of-type {\n",
              "        vertical-align: middle;\n",
              "    }\n",
              "\n",
              "    .dataframe tbody tr th {\n",
              "        vertical-align: top;\n",
              "    }\n",
              "\n",
              "    .dataframe thead th {\n",
              "        text-align: right;\n",
              "    }\n",
              "</style>\n",
              "<table border=\"1\" class=\"dataframe\">\n",
              "  <thead>\n",
              "    <tr style=\"text-align: right;\">\n",
              "      <th></th>\n",
              "      <th>ID</th>\n",
              "      <th>file</th>\n",
              "      <th>Record Ind</th>\n",
              "      <th>Location</th>\n",
              "      <th>Mode</th>\n",
              "      <th>Equipment</th>\n",
              "    </tr>\n",
              "  </thead>\n",
              "  <tbody>\n",
              "    <tr>\n",
              "      <th>0</th>\n",
              "      <td>101</td>\n",
              "      <td>101_1b1_Pr_sc_Meditron</td>\n",
              "      <td>1b1</td>\n",
              "      <td>Pr</td>\n",
              "      <td>sc</td>\n",
              "      <td>Meditron</td>\n",
              "    </tr>\n",
              "    <tr>\n",
              "      <th>1</th>\n",
              "      <td>101</td>\n",
              "      <td>101_1b1_Al_sc_Meditron</td>\n",
              "      <td>1b1</td>\n",
              "      <td>Al</td>\n",
              "      <td>sc</td>\n",
              "      <td>Meditron</td>\n",
              "    </tr>\n",
              "    <tr>\n",
              "      <th>2</th>\n",
              "      <td>103</td>\n",
              "      <td>103_2b2_Ar_mc_LittC2SE</td>\n",
              "      <td>2b2</td>\n",
              "      <td>Ar</td>\n",
              "      <td>mc</td>\n",
              "      <td>LittC2SE</td>\n",
              "    </tr>\n",
              "    <tr>\n",
              "      <th>3</th>\n",
              "      <td>102</td>\n",
              "      <td>102_1b1_Ar_sc_Meditron</td>\n",
              "      <td>1b1</td>\n",
              "      <td>Ar</td>\n",
              "      <td>sc</td>\n",
              "      <td>Meditron</td>\n",
              "    </tr>\n",
              "    <tr>\n",
              "      <th>4</th>\n",
              "      <td>104</td>\n",
              "      <td>104_1b1_Ll_sc_Litt3200</td>\n",
              "      <td>1b1</td>\n",
              "      <td>Ll</td>\n",
              "      <td>sc</td>\n",
              "      <td>Litt3200</td>\n",
              "    </tr>\n",
              "  </tbody>\n",
              "</table>\n",
              "</div>"
            ],
            "text/plain": [
              "    ID                    file Record Ind Location Mode Equipment \n",
              "0  101  101_1b1_Pr_sc_Meditron        1b1       Pr   sc   Meditron\n",
              "1  101  101_1b1_Al_sc_Meditron        1b1       Al   sc   Meditron\n",
              "2  103  103_2b2_Ar_mc_LittC2SE        2b2       Ar   mc   LittC2SE\n",
              "3  102  102_1b1_Ar_sc_Meditron        1b1       Ar   sc   Meditron\n",
              "4  104  104_1b1_Ll_sc_Litt3200        1b1       Ll   sc   Litt3200"
            ]
          },
          "metadata": {},
          "execution_count": 11
        }
      ]
    },
    {
      "cell_type": "markdown",
      "metadata": {
        "id": "d9N3DuRRzExa"
      },
      "source": [
        "Combining diagnosis and record info"
      ]
    },
    {
      "cell_type": "code",
      "metadata": {
        "id": "sE9tULKWzJpK"
      },
      "source": [
        "info_df = info_df.merge(diagnosis_data,on='ID',how='inner')"
      ],
      "execution_count": null,
      "outputs": []
    },
    {
      "cell_type": "code",
      "metadata": {
        "id": "BA-GCZzkXXIS",
        "colab": {
          "base_uri": "https://localhost:8080/"
        },
        "outputId": "387e2231-e059-4058-e874-89b900e697f9"
      },
      "source": [
        "info_df.shape"
      ],
      "execution_count": null,
      "outputs": [
        {
          "output_type": "execute_result",
          "data": {
            "text/plain": [
              "(11, 8)"
            ]
          },
          "metadata": {},
          "execution_count": 13
        }
      ]
    },
    {
      "cell_type": "markdown",
      "metadata": {
        "id": "tTACOrvcUsag"
      },
      "source": [
        "# Audio Preprocessing"
      ]
    },
    {
      "cell_type": "markdown",
      "metadata": {
        "id": "Zoe2hRuT2vwf"
      },
      "source": [
        "Defining a function for bandpass filtering:"
      ]
    },
    {
      "cell_type": "code",
      "metadata": {
        "id": "lYXWfFT0248Y"
      },
      "source": [
        "def audio_filter(audioArr, sampleRate, l_cut, h_cut, order):\n",
        "    sos = signal.butter(order, [l_cut, h_cut], 'bandpass', fs=sampleRate, output='sos')\n",
        "    filtered = signal.sosfilt(sos, audioArr)\n",
        "    return filtered"
      ],
      "execution_count": null,
      "outputs": []
    },
    {
      "cell_type": "code",
      "metadata": {
        "id": "6ta_q6vIUk-8"
      },
      "source": [
        "# sos = signal.butter(12,[120,1800],'bandpass',fs=sampleRate,output='sos')\n",
        "# filtered = signal.sosfilt(sos,audioArr)\n",
        "# plt.plot(audioArr,'r',label='Raw')\n",
        "# plt.plot(filtered,'b',label='Filtered')\n",
        "# plt.legend()"
      ],
      "execution_count": null,
      "outputs": []
    },
    {
      "cell_type": "markdown",
      "metadata": {
        "id": "2RCChwOFY4ee"
      },
      "source": [
        "Defining a function to check the lenght of cycles and match the length:"
      ]
    },
    {
      "cell_type": "code",
      "metadata": {
        "id": "G2GYFdy7Y4Ln"
      },
      "source": [
        "def cycle_length_match(cyc_audio, sampleRate, req_len_time):\n",
        "\n",
        "    req_len_sample = sampleRate * req_len_time\n",
        "\n",
        "    if len(cyc_audio) > req_len_sample:\n",
        "       cyc_audio_new = cyc_audio[:req_len_sample]\n",
        "\n",
        "    elif len(cyc_audio) < req_len_sample:\n",
        "       cyc_audio_new = lb.util.pad_center(cyc_audio, req_len_sample)\n",
        "    \n",
        "    return cyc_audio_new "
      ],
      "execution_count": null,
      "outputs": []
    },
    {
      "cell_type": "code",
      "metadata": {
        "id": "vfbRZPkaZuzF"
      },
      "source": [
        "#plt.plot(all_data['CycleData'][5])  #zero-padded cycle"
      ],
      "execution_count": null,
      "outputs": []
    },
    {
      "cell_type": "markdown",
      "metadata": {
        "id": "FipVct_6zZEg"
      },
      "source": [
        "Defining a function that receives each audio file and separates breath cycles:"
      ]
    },
    {
      "cell_type": "code",
      "metadata": {
        "id": "ARtAfVM2zXyz"
      },
      "source": [
        "def audio_slicing(audio_arr, sampleRate, record_data):\n",
        "    req_len_time = 6 #best cycle length is 6 sec\n",
        "    data = []\n",
        "    col = list(['CycleData','crackle','wheeze'])\n",
        "    for index,row in record_data.iterrows():\n",
        "        crackle   = int(row['crackle'])\n",
        "        wheeze    = int(row['wheeze'])\n",
        "        cyc_start = row['Start']\n",
        "        cyc_end   = row['End']\n",
        "        max_ind   = len(audioArr)\n",
        "\n",
        "        ## Slicing audio file\n",
        "        start_ind = min(int(cyc_start * sampleRate), max_ind)\n",
        "        end_ind   = min(int(cyc_end * sampleRate), max_ind) \n",
        "        cyc_audio = audioArr[start_ind:end_ind]\n",
        "\n",
        "        ## length check and zero-pad\n",
        "        cyc_equal_len = cycle_length_match(cyc_audio, sampleRate, req_len_time)\n",
        "\n",
        "        data.append(dict(zip(col,[cyc_equal_len.tolist(),crackle,wheeze])))\n",
        "    audio_df = pd.DataFrame(data)\n",
        "    return(audio_df)"
      ],
      "execution_count": null,
      "outputs": []
    },
    {
      "cell_type": "markdown",
      "metadata": {
        "id": "GGWHl_1_VMVu"
      },
      "source": [
        "Reading all audio and txt files and separating cycles of each audio file:"
      ]
    },
    {
      "cell_type": "code",
      "metadata": {
        "id": "jlRGMKTR11ma",
        "colab": {
          "base_uri": "https://localhost:8080/",
          "height": 204
        },
        "outputId": "9656cc5c-c7f4-459e-fa62-908c5ccce20f"
      },
      "source": [
        "#os.chdir(data_path+'/audio_and_txt_files')\n",
        "os.chdir(data_path)\n",
        "all_data =[]\n",
        "for index,row in info_df.iterrows():\n",
        "    \n",
        "    #load txt file\n",
        "    record_data=pd.read_csv(row['file']+'.txt',sep='\\t', names=['Start','End','crackle','wheeze'])\n",
        "    \n",
        "    #load audio\n",
        "    audioArr,sampleRate=lb.load(row['file']+'.wav')\n",
        "    \n",
        "    #filter audio\n",
        "    filtered_audio = audio_filter(audioArr, sampleRate, l_cut, h_cut, order)\n",
        "    \n",
        "    #slicing filtered audio\n",
        "    audio_df = audio_slicing(filtered_audio, sampleRate, record_data)\n",
        "    audio_df['ID'] = row['ID']\n",
        "    audio_df['Fs'] = sampleRate\n",
        "    \n",
        "    all_data.append(audio_df)\n",
        "# downsampling\n",
        "#if sampleRate > min_sampleRate:\n",
        "all_data = pd.concat(all_data)\n",
        "all_data.tail()"
      ],
      "execution_count": null,
      "outputs": [
        {
          "output_type": "execute_result",
          "data": {
            "text/html": [
              "<div>\n",
              "<style scoped>\n",
              "    .dataframe tbody tr th:only-of-type {\n",
              "        vertical-align: middle;\n",
              "    }\n",
              "\n",
              "    .dataframe tbody tr th {\n",
              "        vertical-align: top;\n",
              "    }\n",
              "\n",
              "    .dataframe thead th {\n",
              "        text-align: right;\n",
              "    }\n",
              "</style>\n",
              "<table border=\"1\" class=\"dataframe\">\n",
              "  <thead>\n",
              "    <tr style=\"text-align: right;\">\n",
              "      <th></th>\n",
              "      <th>CycleData</th>\n",
              "      <th>crackle</th>\n",
              "      <th>wheeze</th>\n",
              "      <th>ID</th>\n",
              "      <th>Fs</th>\n",
              "    </tr>\n",
              "  </thead>\n",
              "  <tbody>\n",
              "    <tr>\n",
              "      <th>12</th>\n",
              "      <td>[0.0, 0.0, 0.0, 0.0, 0.0, 0.0, 0.0, 0.0, 0.0, ...</td>\n",
              "      <td>0</td>\n",
              "      <td>0</td>\n",
              "      <td>208</td>\n",
              "      <td>22050</td>\n",
              "    </tr>\n",
              "    <tr>\n",
              "      <th>0</th>\n",
              "      <td>[0.0, 0.0, 0.0, 0.0, 0.0, 0.0, 0.0, 0.0, 0.0, ...</td>\n",
              "      <td>0</td>\n",
              "      <td>0</td>\n",
              "      <td>209</td>\n",
              "      <td>22050</td>\n",
              "    </tr>\n",
              "    <tr>\n",
              "      <th>1</th>\n",
              "      <td>[0.0, 0.0, 0.0, 0.0, 0.0, 0.0, 0.0, 0.0, 0.0, ...</td>\n",
              "      <td>0</td>\n",
              "      <td>0</td>\n",
              "      <td>209</td>\n",
              "      <td>22050</td>\n",
              "    </tr>\n",
              "    <tr>\n",
              "      <th>2</th>\n",
              "      <td>[0.050023749470710754, 0.05010179802775383, 0....</td>\n",
              "      <td>0</td>\n",
              "      <td>0</td>\n",
              "      <td>209</td>\n",
              "      <td>22050</td>\n",
              "    </tr>\n",
              "    <tr>\n",
              "      <th>3</th>\n",
              "      <td>[0.0, 0.0, 0.0, 0.0, 0.0, 0.0, 0.0, 0.0, 0.0, ...</td>\n",
              "      <td>0</td>\n",
              "      <td>0</td>\n",
              "      <td>209</td>\n",
              "      <td>22050</td>\n",
              "    </tr>\n",
              "  </tbody>\n",
              "</table>\n",
              "</div>"
            ],
            "text/plain": [
              "                                            CycleData  crackle  ...   ID     Fs\n",
              "12  [0.0, 0.0, 0.0, 0.0, 0.0, 0.0, 0.0, 0.0, 0.0, ...        0  ...  208  22050\n",
              "0   [0.0, 0.0, 0.0, 0.0, 0.0, 0.0, 0.0, 0.0, 0.0, ...        0  ...  209  22050\n",
              "1   [0.0, 0.0, 0.0, 0.0, 0.0, 0.0, 0.0, 0.0, 0.0, ...        0  ...  209  22050\n",
              "2   [0.050023749470710754, 0.05010179802775383, 0....        0  ...  209  22050\n",
              "3   [0.0, 0.0, 0.0, 0.0, 0.0, 0.0, 0.0, 0.0, 0.0, ...        0  ...  209  22050\n",
              "\n",
              "[5 rows x 5 columns]"
            ]
          },
          "metadata": {},
          "execution_count": 19
        }
      ]
    },
    {
      "cell_type": "markdown",
      "metadata": {
        "id": "DsRvNxVEfvsp"
      },
      "source": [
        "Combining separated cycles and other info in a single dataframe:"
      ]
    },
    {
      "cell_type": "code",
      "metadata": {
        "id": "7VX_lyhH20fO"
      },
      "source": [
        "all_data = all_data.merge(info_df,on='ID')"
      ],
      "execution_count": null,
      "outputs": []
    },
    {
      "cell_type": "code",
      "metadata": {
        "id": "eygSrUUCYWTJ",
        "colab": {
          "base_uri": "https://localhost:8080/",
          "height": 204
        },
        "outputId": "877a546b-6c81-4dce-ce1d-6a59627b5c46"
      },
      "source": [
        "all_data.head()"
      ],
      "execution_count": null,
      "outputs": [
        {
          "output_type": "execute_result",
          "data": {
            "text/html": [
              "<div>\n",
              "<style scoped>\n",
              "    .dataframe tbody tr th:only-of-type {\n",
              "        vertical-align: middle;\n",
              "    }\n",
              "\n",
              "    .dataframe tbody tr th {\n",
              "        vertical-align: top;\n",
              "    }\n",
              "\n",
              "    .dataframe thead th {\n",
              "        text-align: right;\n",
              "    }\n",
              "</style>\n",
              "<table border=\"1\" class=\"dataframe\">\n",
              "  <thead>\n",
              "    <tr style=\"text-align: right;\">\n",
              "      <th></th>\n",
              "      <th>CycleData</th>\n",
              "      <th>crackle</th>\n",
              "      <th>wheeze</th>\n",
              "      <th>ID</th>\n",
              "      <th>Fs</th>\n",
              "      <th>file</th>\n",
              "      <th>Record Ind</th>\n",
              "      <th>Location</th>\n",
              "      <th>Mode</th>\n",
              "      <th>Equipment</th>\n",
              "      <th>disease</th>\n",
              "      <th>Condition</th>\n",
              "    </tr>\n",
              "  </thead>\n",
              "  <tbody>\n",
              "    <tr>\n",
              "      <th>0</th>\n",
              "      <td>[0.0, 0.0, 0.0, 0.0, 0.0, 0.0, 0.0, 0.0, 0.0, ...</td>\n",
              "      <td>0</td>\n",
              "      <td>0</td>\n",
              "      <td>101</td>\n",
              "      <td>22050</td>\n",
              "      <td>101_1b1_Pr_sc_Meditron</td>\n",
              "      <td>1b1</td>\n",
              "      <td>Pr</td>\n",
              "      <td>sc</td>\n",
              "      <td>Meditron</td>\n",
              "      <td>URTI</td>\n",
              "      <td>Unhealthy</td>\n",
              "    </tr>\n",
              "    <tr>\n",
              "      <th>1</th>\n",
              "      <td>[0.0, 0.0, 0.0, 0.0, 0.0, 0.0, 0.0, 0.0, 0.0, ...</td>\n",
              "      <td>0</td>\n",
              "      <td>0</td>\n",
              "      <td>101</td>\n",
              "      <td>22050</td>\n",
              "      <td>101_1b1_Al_sc_Meditron</td>\n",
              "      <td>1b1</td>\n",
              "      <td>Al</td>\n",
              "      <td>sc</td>\n",
              "      <td>Meditron</td>\n",
              "      <td>URTI</td>\n",
              "      <td>Unhealthy</td>\n",
              "    </tr>\n",
              "    <tr>\n",
              "      <th>2</th>\n",
              "      <td>[0.0, 0.0, 0.0, 0.0, 0.0, 0.0, 0.0, 0.0, 0.0, ...</td>\n",
              "      <td>0</td>\n",
              "      <td>0</td>\n",
              "      <td>101</td>\n",
              "      <td>22050</td>\n",
              "      <td>101_1b1_Pr_sc_Meditron</td>\n",
              "      <td>1b1</td>\n",
              "      <td>Pr</td>\n",
              "      <td>sc</td>\n",
              "      <td>Meditron</td>\n",
              "      <td>URTI</td>\n",
              "      <td>Unhealthy</td>\n",
              "    </tr>\n",
              "    <tr>\n",
              "      <th>3</th>\n",
              "      <td>[0.0, 0.0, 0.0, 0.0, 0.0, 0.0, 0.0, 0.0, 0.0, ...</td>\n",
              "      <td>0</td>\n",
              "      <td>0</td>\n",
              "      <td>101</td>\n",
              "      <td>22050</td>\n",
              "      <td>101_1b1_Al_sc_Meditron</td>\n",
              "      <td>1b1</td>\n",
              "      <td>Al</td>\n",
              "      <td>sc</td>\n",
              "      <td>Meditron</td>\n",
              "      <td>URTI</td>\n",
              "      <td>Unhealthy</td>\n",
              "    </tr>\n",
              "    <tr>\n",
              "      <th>4</th>\n",
              "      <td>[0.0, 0.0, 0.0, 0.0, 0.0, 0.0, 0.0, 0.0, 0.0, ...</td>\n",
              "      <td>0</td>\n",
              "      <td>0</td>\n",
              "      <td>101</td>\n",
              "      <td>22050</td>\n",
              "      <td>101_1b1_Pr_sc_Meditron</td>\n",
              "      <td>1b1</td>\n",
              "      <td>Pr</td>\n",
              "      <td>sc</td>\n",
              "      <td>Meditron</td>\n",
              "      <td>URTI</td>\n",
              "      <td>Unhealthy</td>\n",
              "    </tr>\n",
              "  </tbody>\n",
              "</table>\n",
              "</div>"
            ],
            "text/plain": [
              "                                           CycleData  ...  Condition\n",
              "0  [0.0, 0.0, 0.0, 0.0, 0.0, 0.0, 0.0, 0.0, 0.0, ...  ...  Unhealthy\n",
              "1  [0.0, 0.0, 0.0, 0.0, 0.0, 0.0, 0.0, 0.0, 0.0, ...  ...  Unhealthy\n",
              "2  [0.0, 0.0, 0.0, 0.0, 0.0, 0.0, 0.0, 0.0, 0.0, ...  ...  Unhealthy\n",
              "3  [0.0, 0.0, 0.0, 0.0, 0.0, 0.0, 0.0, 0.0, 0.0, ...  ...  Unhealthy\n",
              "4  [0.0, 0.0, 0.0, 0.0, 0.0, 0.0, 0.0, 0.0, 0.0, ...  ...  Unhealthy\n",
              "\n",
              "[5 rows x 12 columns]"
            ]
          },
          "metadata": {},
          "execution_count": 21
        }
      ]
    },
    {
      "cell_type": "markdown",
      "metadata": {
        "id": "m6keVPg9S7Kr"
      },
      "source": [
        "A sample plot of original audio file and filtered one:"
      ]
    },
    {
      "cell_type": "markdown",
      "metadata": {
        "id": "tmvEQ7pOdPeN"
      },
      "source": [
        "# *Feature* Extraction"
      ]
    },
    {
      "cell_type": "code",
      "metadata": {
        "id": "MIcquDT2KqS6"
      },
      "source": [
        "def feature_extraction(preprocessed_audio, fs, win_len, win_hop):\n",
        "\n",
        "    feature_array = []\n",
        "\n",
        "    # PSD\n",
        "    #freq, Pxx_den = signal.periodogram(preprocessed_audio, fs, scaling='density')\n",
        "    \n",
        "    # MFCC\n",
        "    mfccs = lb.feature.mfcc(\n",
        "        y=preprocessed_audio, sr=fs, win_length=win_len, \n",
        "        n_fft=win_len, hop_length=win_hop, n_mfcc=20\n",
        "        )\n",
        "\n",
        "    # Chroma STFT\n",
        "    cstft = lb.feature.chroma_stft(\n",
        "        y=preprocessed_audio, sr=fs, win_length=win_len, \n",
        "        n_fft=win_len, hop_length=win_hop\n",
        "        )\n",
        "\n",
        "    #Zero-crossing rate\n",
        "    zc_rate = lb.feature.zero_crossing_rate(\n",
        "        y=preprocessed_audio, frame_length=win_len, \n",
        "        hop_length=win_hop\n",
        "        )\n",
        "    \n",
        "    feature_array = np.concatenate(\n",
        "                    (mfccs, cstft, zc_rate)\n",
        "                    ).T\n",
        "    \n",
        "    return feature_array"
      ],
      "execution_count": null,
      "outputs": []
    },
    {
      "cell_type": "code",
      "metadata": {
        "id": "phsNtWdSP-ds"
      },
      "source": [
        "#mf,feature = feature_extraction(np.array(all_data.CycleData[2]), sampleRate, win_length, win_hop)\n",
        "#mf[0,:]"
      ],
      "execution_count": null,
      "outputs": []
    },
    {
      "cell_type": "markdown",
      "metadata": {
        "id": "68lXI19dCnm-"
      },
      "source": [
        "Feature extraction parameters:"
      ]
    },
    {
      "cell_type": "code",
      "metadata": {
        "id": "K-H7JqOMCmuU"
      },
      "source": [
        "win_length = 2**12  # Why? --> cycle-min-length=8000, 2^12 is the closest binary number\n",
        "win_hop    = 2**11"
      ],
      "execution_count": null,
      "outputs": []
    },
    {
      "cell_type": "code",
      "metadata": {
        "id": "h8Uck8HvDkHx",
        "colab": {
          "base_uri": "https://localhost:8080/"
        },
        "outputId": "291fbec2-97fb-4bda-a504-dac493a48345"
      },
      "source": [
        "all_sub_features = []\n",
        "target_labels    = []\n",
        "subject_ID       = []\n",
        "\n",
        "for index,row in all_data.iterrows():\n",
        "    \n",
        "    # generating target labels\n",
        "    label = int(row['Condition'] == 'Healthy')\n",
        "\n",
        "    # Extracting features\n",
        "    feature = feature_extraction(np.array(row['CycleData']), row['Fs'], win_length, win_hop)\n",
        "\n",
        "    if index == 0:\n",
        "      all_sub_features = feature\n",
        "      target_labels    = np.tile(label,np.shape(feature)[0])\n",
        "      subject_ID       = np.tile(row['ID'],np.shape(feature)[0])\n",
        "    else:\n",
        "      all_sub_features = np.append(all_sub_features,feature,axis=0)\n",
        "      target_labels    = np.append(target_labels,np.tile(label,np.shape(feature)[0]))\n",
        "      subject_ID       = np.append(subject_ID, np.tile(row['ID'],np.shape(feature)[0]))\n",
        "\n",
        "#all_sub_features = np.array(all_sub_features).transpose(1,0,2).reshape(np.shape(all_sub_features)[1],-1).T\n",
        "#target_labels =  np.reshape(target_labels,(np.shape(all_sub_features)[0],-1))"
      ],
      "execution_count": null,
      "outputs": [
        {
          "output_type": "stream",
          "name": "stderr",
          "text": [
            "/usr/local/lib/python3.7/dist-packages/librosa/core/pitch.py:153: UserWarning: Trying to estimate tuning from empty frequency set.\n",
            "  warnings.warn(\"Trying to estimate tuning from empty frequency set.\")\n"
          ]
        }
      ]
    },
    {
      "cell_type": "code",
      "metadata": {
        "id": "AixkRsTP6__V",
        "colab": {
          "base_uri": "https://localhost:8080/",
          "height": 336
        },
        "outputId": "323d2025-1035-4591-ae7d-8cc2885ccd44"
      },
      "source": [
        "ax = sbn.countplot(target_labels)\n",
        "ax.set_xticklabels(['Unhealthy', 'Healthy'])"
      ],
      "execution_count": null,
      "outputs": [
        {
          "output_type": "stream",
          "name": "stderr",
          "text": [
            "/usr/local/lib/python3.7/dist-packages/seaborn/_decorators.py:43: FutureWarning: Pass the following variable as a keyword arg: x. From version 0.12, the only valid positional argument will be `data`, and passing other arguments without an explicit keyword will result in an error or misinterpretation.\n",
            "  FutureWarning\n"
          ]
        },
        {
          "output_type": "execute_result",
          "data": {
            "text/plain": [
              "[Text(0, 0, 'Unhealthy'), Text(0, 0, 'Healthy')]"
            ]
          },
          "metadata": {},
          "execution_count": 26
        },
        {
          "output_type": "display_data",
          "data": {
            "image/png": "[encoded data removed]",
            "text/plain": [
              "<Figure size 432x288 with 1 Axes>"
            ]
          },
          "metadata": {
            "needs_background": "light"
          }
        }
      ]
    },
    {
      "cell_type": "markdown",
      "metadata": {
        "id": "HTR6sM6KCXd7"
      },
      "source": [
        "Processing audio without slicing:"
      ]
    },
    {
      "cell_type": "code",
      "metadata": {
        "id": "7eWxmXeUCW8k"
      },
      "source": [
        "win_length = 22050  # equal to 1 sec \n",
        "win_hop    = 11025\n",
        "\n",
        "os.chdir(data_path)\n",
        "all_sub = []\n",
        "target  = []\n",
        "sub_ID  = []\n",
        "req_duration = 20   #20 seconds\n",
        "\n",
        "for index,row in info_df.iterrows():\n",
        "\n",
        "    # generating target labels\n",
        "    label = int(row['Condition'] == 'Healthy')\n",
        "      \n",
        "    #load audio\n",
        "    audioArr,sampleRate=lb.load(row['file']+'.wav')\n",
        "\n",
        "    #Audio length check\n",
        "    max_len = req_duration * sampleRate\n",
        "    if len(audioArr) > max_len:\n",
        "      audio = audioArr[:max_len]\n",
        "    elif len(audioArr) < max_len:\n",
        "      audio = lb.util.pad_center(audioArr, max_len)\n",
        "    else:\n",
        "      audio = audioArr\n",
        "\n",
        "    #filter audio\n",
        "    filtered_audio = audio_filter(audio, sampleRate, l_cut, h_cut, order)\n",
        "\n",
        "    #Feature extraction\n",
        "    feature = feature_extraction(filtered_audio, sampleRate, win_length, win_hop)\n",
        "\n",
        "    #combining all features\n",
        "    if index == 0:\n",
        "      all_sub = feature\n",
        "      target = np.tile(label,feature.shape[0])\n",
        "      sub_ID  = np.tile(row['ID'],np.shape(feature)[0])\n",
        "\n",
        "    else:\n",
        "      all_sub = np.append(all_sub, feature, axis=0)\n",
        "      target  = np.append(target,np.tile(label,feature.shape[0]))\n",
        "      sub_ID  = np.append(sub_ID, np.tile(row['ID'],np.shape(feature)[0]))\n"
      ],
      "execution_count": null,
      "outputs": []
    },
    {
      "cell_type": "markdown",
      "metadata": {
        "id": "GGIBjwEVYiPi"
      },
      "source": [
        "# Classification"
      ]
    },
    {
      "cell_type": "markdown",
      "metadata": {
        "id": "rOQ1tiQrILXa"
      },
      "source": [
        "Building classifier:"
      ]
    },
    {
      "cell_type": "code",
      "metadata": {
        "id": "MTKB1UaQaozR"
      },
      "source": [
        "def classification_evaluation(clf, xtest, ytest):\n",
        "    y_prediction = clf.predict(xtest)\n",
        "    Accuracy   = metrics.accuracy_score( ytest , y_prediction)\n",
        "    Precision = metrics.precision_score( ytest , y_prediction)\n",
        "    Recall    = metrics.recall_score( ytest , y_prediction)\n",
        "    MAE       = metrics.mean_absolute_error(ytest, y_prediction)\n",
        "    \n",
        "    # Confusion Matrix\n",
        "    conf_matrix = metrics.confusion_matrix(ytest, y_prediction).ravel()\n",
        "\n",
        "    return [Accuracy,Precision,Recall,MAE]+conf_matrix.tolist()"
      ],
      "execution_count": null,
      "outputs": []
    },
    {
      "cell_type": "code",
      "metadata": {
        "id": "pBBLMNSH_fzc"
      },
      "source": [
        "def classification(all_features, target_labels):\n",
        "\n",
        "    xtrain, xtest, ytrain, ytest = train_test_split(all_features,target_labels, test_size = 0.3, stratify=target_labels)\n",
        "\n",
        "    # SVM - linear\n",
        "    clf = svm.SVC(kernel = 'linear')\n",
        "    clf.fit(xtrain,ytrain)\n",
        "    svm_lin = classification_evaluation(clf, xtest, ytest)\n",
        "\n",
        "    # SVM - Polynomial\n",
        "    clf = svm.SVC(kernel = 'poly')\n",
        "    clf.fit(xtrain,ytrain)\n",
        "    svm_pol = classification_evaluation(clf, xtest, ytest)\n",
        "\n",
        "    # SVM - RBF\n",
        "    clf = svm.SVC(kernel = 'rbf')\n",
        "    clf.fit(xtrain,ytrain)\n",
        "    svm_rbf = classification_evaluation(clf, xtest, ytest)\n",
        "\n",
        "    ### Scaling data for Naive bayes\n",
        "    scale = MinMaxScaler()\n",
        "    x_train_n = scale.fit_transform(xtrain)\n",
        "    x_test_n  = scale.fit_transform(xtest)\n",
        "\n",
        "    # Naive Bayes - Gaussian\n",
        "    clf = naive_bayes.GaussianNB()\n",
        "    clf.fit(x_train_n,ytrain)\n",
        "    Nab_gau = classification_evaluation(clf, x_test_n, ytest)\n",
        "\n",
        "    # Naive Bayes - Complement\n",
        "    clf = naive_bayes.ComplementNB()\n",
        "    clf.fit(x_train_n,ytrain)\n",
        "    Nab_cmp = classification_evaluation(clf, x_test_n, ytest)\n",
        "\n",
        "    # Decision Tree\n",
        "    clf = DecisionTreeClassifier()\n",
        "    clf.fit(xtrain,ytrain)\n",
        "    Dec_Tre = classification_evaluation(clf, xtest, ytest)\n",
        "\n",
        "    #Random Forest\n",
        "    clf = RandomForestClassifier(n_estimators = 100)\n",
        "    clf.fit(xtrain,ytrain)\n",
        "    Ran_for = classification_evaluation(clf,xtest,ytest)\n",
        "\n",
        "    #extremely randomized trees\n",
        "    clf = ExtraTreesClassifier(n_estimators = 100)\n",
        "    clf.fit(xtrain,ytrain)\n",
        "    Ext_tre = classification_evaluation(clf,xtest,ytest)\n",
        "\n",
        "    # Voting\n",
        "    clf1 = svm.SVC(kernel='rbf')\n",
        "    clf2 = svm.SVC(kernel='poly')\n",
        "    clf3 = DecisionTreeClassifier()\n",
        "    clf4 = RandomForestClassifier(n_estimators = 100)\n",
        "    eclf = VotingClassifier(estimators =[('a',clf1),('b',clf2),('c',clf3),('d',clf4)])\n",
        "    eclf.fit(xtrain,ytrain)\n",
        "    Ens_vot = classification_evaluation(eclf,xtest,ytest)\n",
        "\n",
        "\n",
        "    lst = [svm_lin,svm_pol,svm_rbf,Nab_gau,Nab_cmp,Dec_Tre,Ran_for,Ext_tre,Ens_vot]\n",
        "    results = np.array([i + [np.NaN]*(len(lst)-len(i)) for i in lst])\n",
        "    column  = ['Accuracy','Precision','Recall','MAE','True Neg', 'False Pos', 'False Neg', 'True Pos']\n",
        "    index   = ['SVM-lin','SVM-polynomial','SVM-RBF','Naive-Gaussian','Naive-Complement','Decision-Tree','Random Forest','Ext Tree','Voting']\n",
        "    result_df = pd.DataFrame(results, columns =column, index=index)\n",
        "\n",
        "    return result_df"
      ],
      "execution_count": null,
      "outputs": []
    },
    {
      "cell_type": "code",
      "metadata": {
        "id": "pvqZKe3RwmHW"
      },
      "source": [
        "def classification2(xtrain,ytrain,xtest,ytest):\n",
        "\n",
        "    # SVM - linear\n",
        "    clf = svm.SVC(kernel = 'linear')\n",
        "    clf.fit(xtrain,ytrain)\n",
        "    svm_lin = classification_evaluation(clf, xtest, ytest)\n",
        "\n",
        "    # SVM - Polynomial\n",
        "    clf = svm.SVC(kernel = 'poly')\n",
        "    clf.fit(xtrain,ytrain)\n",
        "    svm_pol = classification_evaluation(clf, xtest, ytest)\n",
        "\n",
        "    # SVM - RBF\n",
        "    clf = svm.SVC(kernel = 'rbf')\n",
        "    clf.fit(xtrain,ytrain)\n",
        "    svm_rbf = classification_evaluation(clf, xtest, ytest)\n",
        "\n",
        "    ### Scaling data for Naive bayes\n",
        "    scale = MinMaxScaler()\n",
        "    x_train_n = scale.fit_transform(xtrain)\n",
        "    x_test_n  = scale.fit_transform(xtest)\n",
        "\n",
        "    # Naive Bayes - Gaussian\n",
        "    clf = naive_bayes.GaussianNB()\n",
        "    clf.fit(x_train_n,ytrain)\n",
        "    Nab_gau = classification_evaluation(clf, x_test_n, ytest)\n",
        "\n",
        "    # Naive Bayes - Complement\n",
        "    clf = naive_bayes.ComplementNB()\n",
        "    clf.fit(x_train_n,ytrain)\n",
        "    Nab_cmp = classification_evaluation(clf, x_test_n, ytest)\n",
        "\n",
        "    # Decision Tree\n",
        "    clf = DecisionTreeClassifier()\n",
        "    clf.fit(xtrain,ytrain)\n",
        "    Dec_Tre = classification_evaluation(clf, xtest, ytest)\n",
        "\n",
        "    #Random Forest\n",
        "    clf = RandomForestClassifier(n_estimators = 100)\n",
        "    clf.fit(xtrain,ytrain)\n",
        "    Ran_for = classification_evaluation(clf,xtest,ytest)\n",
        "\n",
        "    #extremely randomized trees\n",
        "    clf = ExtraTreesClassifier(n_estimators = 100)\n",
        "    clf.fit(xtrain,ytrain)\n",
        "    Ext_tre = classification_evaluation(clf,xtest,ytest)\n",
        "\n",
        "    # Voting\n",
        "    clf1 = svm.SVC(kernel='rbf')\n",
        "    clf2 = ExtraTreesClassifier(n_estimators = 100)\n",
        "    clf3 = DecisionTreeClassifier()\n",
        "    clf4 = RandomForestClassifier(n_estimators = 100)\n",
        "    eclf = VotingClassifier(estimators =[('a',clf1),('b',clf2),('c',clf3),('d',clf4)])\n",
        "    eclf.fit(xtrain,ytrain)\n",
        "    Ens_vot = classification_evaluation(eclf,xtest,ytest)\n",
        "\n",
        "\n",
        "    lst = [svm_lin,svm_pol,svm_rbf,Nab_gau,Nab_cmp,Dec_Tre,Ran_for,Ext_tre,Ens_vot]\n",
        "    results = np.array([i + [np.NaN]*(8-len(i)) for i in lst])\n",
        "    column  = ['Accuracy','Precision','Recall','MAE','True Neg', 'False Pos', 'False Neg', 'True Pos']\n",
        "    index   = ['SVM-lin','SVM-polynomial','SVM-RBF','Naive-Gaussian','Naive-Complement','Decision-Tree','Random Forest','Ext Tree','Voting']\n",
        "    result_df = pd.DataFrame(results, columns =column, index=index)\n",
        "\n",
        "    return result_df"
      ],
      "execution_count": null,
      "outputs": []
    },
    {
      "cell_type": "markdown",
      "metadata": {
        "id": "eajM9U4j7DMG"
      },
      "source": [
        "Classification with leave-one-out:"
      ]
    },
    {
      "cell_type": "code",
      "metadata": {
        "colab": {
          "base_uri": "https://localhost:8080/"
        },
        "id": "HSnv1GAZ7Cze",
        "outputId": "79e11d02-d247-40db-9ecb-acc52d901f9a"
      },
      "source": [
        "import warnings\n",
        "warnings.filterwarnings(\"ignore\")\n",
        "\n",
        "features = all_sub\n",
        "labels = target\n",
        "all_id = sub_ID\n",
        "\n",
        "final_result = pd.DataFrame(0, index=result_df.index,columns=result_df.columns)\n",
        "final_zero = pd.DataFrame(0, index=result_df.index,columns=result_df.columns)\n",
        "final_one = pd.DataFrame(0, index=result_df.index,columns=result_df.columns)\n",
        "\n",
        "for id in np.unique(all_id):\n",
        "  print(id)\n",
        "  xtrain = features[all_id != id]\n",
        "  ytrain = labels[all_id != id]\n",
        "\n",
        "  xtest = features[all_id == id]\n",
        "  ytest = labels[all_id == id]\n",
        "\n",
        "  oversampler  = SMOTE(sampling_strategy=0.9)\n",
        "  x1,y1 = oversampler.fit_resample(xtrain,ytrain)\n",
        "  # undersampler = RandomUnderSampler(sampling_strategy=0.5)\n",
        "  # x,y = undersampler.fit_resample(x1,y1)\n",
        "\n",
        "  result_df = classification3(x1,y1,xtest,ytest)\n",
        "  # result_df.fillna(0,inplace = True)\n",
        "\n",
        "  final_result = final_result + result_df\n",
        "\n",
        "  if np.unique(ytest) == 0:\n",
        "    final_zero = final_zero + result_df\n",
        "  else:\n",
        "    final_one = final_one + result_df\n",
        "\n",
        "\n",
        "mean_df = final_result/len(np.unique(subject_ID))\n",
        "mean_health = final_one/len(np.unique(subject_ID))\n",
        "mean_unhealth = final_zero/len(np.unique(subject_ID))\n",
        "\n",
        "mean_df.columns = ['Performance']\n"
      ],
      "execution_count": null,
      "outputs": [
        {
          "output_type": "stream",
          "name": "stdout",
          "text": [
            "101\n",
            "102\n",
            "103\n",
            "104\n",
            "105\n",
            "208\n",
            "209\n"
          ]
        }
      ]
    },
    {
      "cell_type": "code",
      "metadata": {
        "colab": {
          "base_uri": "https://localhost:8080/",
          "height": 328
        },
        "id": "5LQ6TWE-w1rq",
        "outputId": "107331e3-469e-43de-93e9-fd5185f4f292"
      },
      "source": [
        "mean_health.columns=['Performance']\n",
        "mean_unhealth.columns=['Performance']\n",
        "\n",
        "mean_unhealth"
      ],
      "execution_count": null,
      "outputs": [
        {
          "output_type": "execute_result",
          "data": {
            "text/html": [
              "<div>\n",
              "<style scoped>\n",
              "    .dataframe tbody tr th:only-of-type {\n",
              "        vertical-align: middle;\n",
              "    }\n",
              "\n",
              "    .dataframe tbody tr th {\n",
              "        vertical-align: top;\n",
              "    }\n",
              "\n",
              "    .dataframe thead th {\n",
              "        text-align: right;\n",
              "    }\n",
              "</style>\n",
              "<table border=\"1\" class=\"dataframe\">\n",
              "  <thead>\n",
              "    <tr style=\"text-align: right;\">\n",
              "      <th></th>\n",
              "      <th>Performance</th>\n",
              "    </tr>\n",
              "  </thead>\n",
              "  <tbody>\n",
              "    <tr>\n",
              "      <th>SVM-lin</th>\n",
              "      <td>14.285714</td>\n",
              "    </tr>\n",
              "    <tr>\n",
              "      <th>SVM-polynomial</th>\n",
              "      <td>28.571429</td>\n",
              "    </tr>\n",
              "    <tr>\n",
              "      <th>SVM-RBF</th>\n",
              "      <td>14.285714</td>\n",
              "    </tr>\n",
              "    <tr>\n",
              "      <th>Naive-Gaussian</th>\n",
              "      <td>57.142857</td>\n",
              "    </tr>\n",
              "    <tr>\n",
              "      <th>Naive-Complement</th>\n",
              "      <td>57.142857</td>\n",
              "    </tr>\n",
              "    <tr>\n",
              "      <th>Decision-Tree</th>\n",
              "      <td>0.000000</td>\n",
              "    </tr>\n",
              "    <tr>\n",
              "      <th>Random Forest</th>\n",
              "      <td>14.285714</td>\n",
              "    </tr>\n",
              "    <tr>\n",
              "      <th>Ext Tree</th>\n",
              "      <td>14.285714</td>\n",
              "    </tr>\n",
              "    <tr>\n",
              "      <th>Voting</th>\n",
              "      <td>14.285714</td>\n",
              "    </tr>\n",
              "  </tbody>\n",
              "</table>\n",
              "</div>"
            ],
            "text/plain": [
              "                  Performance\n",
              "SVM-lin             14.285714\n",
              "SVM-polynomial      28.571429\n",
              "SVM-RBF             14.285714\n",
              "Naive-Gaussian      57.142857\n",
              "Naive-Complement    57.142857\n",
              "Decision-Tree        0.000000\n",
              "Random Forest       14.285714\n",
              "Ext Tree            14.285714\n",
              "Voting              14.285714"
            ]
          },
          "metadata": {},
          "execution_count": 63
        }
      ]
    },
    {
      "cell_type": "code",
      "metadata": {
        "id": "xPLgV1SvAtuu"
      },
      "source": [
        "def classification_evaluation2(clf,xtest,ytest):\n",
        "  sub_label = ytest[0]\n",
        "  y_prediction = clf.predict(xtest)\n",
        "  label = (sum(y_prediction)/len(y_prediction)) > 0.5\n",
        "  performance = (sub_label == label)*100\n",
        "  return performance\n",
        "\n",
        "def classification3(xtrain,ytrain,xtest,ytest):\n",
        "    # SVM - linear\n",
        "    clf = svm.SVC(kernel = 'linear')\n",
        "    clf.fit(xtrain,ytrain)\n",
        "    svm_lin = classification_evaluation2(clf, xtest, ytest)\n",
        "\n",
        "    # SVM - Polynomial\n",
        "    clf = svm.SVC(kernel = 'poly')\n",
        "    clf.fit(xtrain,ytrain)\n",
        "    svm_pol = classification_evaluation2(clf, xtest, ytest)\n",
        "\n",
        "    # SVM - RBF\n",
        "    clf = svm.SVC(kernel = 'rbf')\n",
        "    clf.fit(xtrain,ytrain)\n",
        "    svm_rbf = classification_evaluation2(clf, xtest, ytest)\n",
        "\n",
        "    ### Scaling data for Naive bayes\n",
        "    scale = MinMaxScaler()\n",
        "    x_train_n = scale.fit_transform(xtrain)\n",
        "    x_test_n  = scale.fit_transform(xtest)\n",
        "\n",
        "    # Naive Bayes - Gaussian\n",
        "    clf = naive_bayes.GaussianNB()\n",
        "    clf.fit(x_train_n,ytrain)\n",
        "    Nab_gau = classification_evaluation2(clf, x_test_n, ytest)\n",
        "\n",
        "    # Naive Bayes - Complement\n",
        "    clf = naive_bayes.ComplementNB()\n",
        "    clf.fit(x_train_n,ytrain)\n",
        "    Nab_cmp = classification_evaluation2(clf, x_test_n, ytest)\n",
        "\n",
        "    # Decision Tree\n",
        "    clf = DecisionTreeClassifier()\n",
        "    clf.fit(xtrain,ytrain)\n",
        "    Dec_Tre = classification_evaluation2(clf, xtest, ytest)\n",
        "\n",
        "    #Random Forest\n",
        "    clf = RandomForestClassifier(n_estimators = 100)\n",
        "    clf.fit(xtrain,ytrain)\n",
        "    Ran_for = classification_evaluation2(clf,xtest,ytest)\n",
        "\n",
        "    #extremely randomized trees\n",
        "    clf = ExtraTreesClassifier(n_estimators = 100)\n",
        "    clf.fit(xtrain,ytrain)\n",
        "    Ext_tre = classification_evaluation2(clf,xtest,ytest)\n",
        "\n",
        "    # Voting\n",
        "    clf1 = svm.SVC(kernel='rbf')\n",
        "    clf2 = ExtraTreesClassifier(n_estimators = 100)\n",
        "    clf3 = DecisionTreeClassifier()\n",
        "    clf4 = RandomForestClassifier(n_estimators = 100)\n",
        "    eclf = VotingClassifier(estimators =[('a',clf1),('b',clf2),('c',clf3),('d',clf4)])\n",
        "    eclf.fit(xtrain,ytrain)\n",
        "    Ens_vot = classification_evaluation2(eclf,xtest,ytest)\n",
        "\n",
        "\n",
        "    lst = [svm_lin,svm_pol,svm_rbf,Nab_gau,Nab_cmp,Dec_Tre,Ran_for,Ext_tre,Ens_vot]\n",
        "    index   = ['SVM-lin','SVM-polynomial','SVM-RBF','Naive-Gaussian','Naive-Complement','Decision-Tree','Random Forest','Ext Tree','Voting']\n",
        "    result_df = pd.DataFrame(lst, index=index)\n",
        "\n",
        "    return result_df"
      ],
      "execution_count": null,
      "outputs": []
    },
    {
      "cell_type": "code",
      "metadata": {
        "id": "nv-dCTL_FoHM"
      },
      "source": [
        "oversampler  = SMOTE(sampling_strategy=0.3)\n",
        "undersampler = RandomUnderSampler(sampling_strategy=0.2)\n",
        "\n",
        "steps = [('o', oversampler), ('u', undersampler)]\n",
        "pipeline = Pipeline(steps=steps)\n",
        "# transform the dataset\n",
        "features, labels = pipeline.fit_resample(all_sub_features,target_labels)\n",
        "\n",
        "result_df = classification(features, labels)\n",
        "\n",
        "result_df\n",
        "# x,y = oversampler.fit_resample(all_sub_features,target_labels)\n",
        "# xx,yy = under.fit_resample(all_sub_features,target_labels)\n"
      ],
      "execution_count": null,
      "outputs": []
    },
    {
      "cell_type": "code",
      "metadata": {
        "id": "3pHirN8NRsMf"
      },
      "source": [
        "oversampler  = SMOTE(sampling_strategy=0.2)\n",
        "undersampler = RandomUnderSampler(sampling_strategy=0.3)\n",
        "\n",
        "steps = [('o', oversampler), ('u', undersampler)]\n",
        "pipeline = Pipeline(steps=steps)\n",
        "# transform the dataset\n",
        "features, labels = pipeline.fit_resample(all_sub_features,target_labels)\n",
        "sbn.countplot(labels)\n",
        "result_df = classification(features, labels)\n",
        "\n",
        "result_df"
      ],
      "execution_count": null,
      "outputs": []
    },
    {
      "cell_type": "code",
      "metadata": {
        "id": "_rPcY99mZryt"
      },
      "source": [
        "oversampler  = SMOTE(sampling_strategy=0.3)\n",
        "\n",
        "# transform the dataset\n",
        "x,y = oversampler.fit_resample(all_sub_features,target_labels)\n",
        "sbn.countplot(y)\n",
        "result_df = classification(x, y)\n",
        "\n",
        "result_df"
      ],
      "execution_count": null,
      "outputs": []
    },
    {
      "cell_type": "code",
      "metadata": {
        "id": "gFNWl4oJbhHh"
      },
      "source": [
        "oversampler  = SMOTE(sampling_strategy=0.3)\n",
        "\n",
        "# transform the dataset\n",
        "x1,y1 = oversampler.fit_resample(all_sub_features,target_labels)\n",
        "undersampler = RandomUnderSampler(sampling_strategy=0.5)\n",
        "x,y = undersampler.fit_resample(x1,y1)\n",
        "\n",
        "sbn.countplot(y)\n",
        "result_df = classification(x, y)\n",
        "\n",
        "result_df"
      ],
      "execution_count": null,
      "outputs": []
    },
    {
      "cell_type": "code",
      "metadata": {
        "cellView": "code",
        "id": "l0Xh4yt695LV"
      },
      "source": [
        "#\n",
        "import warnings\n",
        "warnings.filterwarnings(\"ignore\", category=FutureWarning)\n",
        "print('\\033[1mAccuray:','\\033[0m','\\n\\t','%2.4f' %metrics.accuracy_score( ytest , y_prediction),\n",
        "      '\\n\\033[1mPrecision:','\\033[0m','\\n\\t','%2.4f' %metrics.precision_score( ytest , y_prediction),\n",
        "      '\\n\\033[1mRecall:','\\033[0m','\\n\\t','%2.4f' %metrics.recall_score( ytest , y_prediction),\n",
        "      '\\n\\033[1mMAE:','\\033[0m','\\n\\t','%2.4f' %metrics.mean_absolute_error(ytest, y_prediction),'\\n')\n",
        "\n",
        "conf_matrix = metrics.confusion_matrix(ytest, y_prediction)\n",
        "print('\\033[1mConfusion Matrix:','\\033[0m\\n',conf_matrix)\n",
        "\n",
        "#print(len(y_prediction))\n",
        "ax = sbn.countplot(y_prediction)\n",
        "ax.set_xticklabels(['Unhealthy', 'Healthy'])\n",
        "b=ax.set_title('Predicted Labels')"
      ],
      "execution_count": null,
      "outputs": []
    },
    {
      "cell_type": "code",
      "metadata": {
        "id": "3sTV3d-Xg0Gb"
      },
      "source": [
        "oversampler  = SMOTE(sampling_strategy=0.4)\n",
        "\n",
        "# transform the dataset\n",
        "x1,y1 = oversampler.fit_resample(all_sub,target_labels)\n",
        "undersampler = RandomUnderSampler(sampling_strategy=0.5)\n",
        "x,y = undersampler.fit_resample(x1,y1)\n",
        "\n",
        "sbn.countplot(y)\n",
        "result_df = classification(x, y)\n",
        "\n",
        "result_df"
      ],
      "execution_count": null,
      "outputs": []
    },
    {
      "cell_type": "code",
      "metadata": {
        "colab": {
          "base_uri": "https://localhost:8080/",
          "height": 328
        },
        "id": "JYV2l9K7FntQ",
        "outputId": "9e46020a-499d-40e0-9391-e6c8cc98c32c"
      },
      "source": [
        "feature_array = all_sub_features\n",
        "label_array = target_labels\n",
        "ID = subject_ID\n",
        "\n",
        "### Scaling data for Naive bayes\n",
        "scale = MinMaxScaler()\n",
        "#feature_array = scale.fit_transform(feature_array)\n",
        "\n",
        "sub1 = 102\n",
        "sub2 = 105\n",
        "selection = np.logical_and(ID!=sub1,ID!=sub2)\n",
        "\n",
        "xtrain = feature_array[selection]\n",
        "ytrain = label_array[selection]\n",
        "\n",
        "xtest  = feature_array[np.logical_not(selection)] \n",
        "ytest  = label_array[np.logical_not(selection)]\n",
        "\n",
        "oversampler  = SMOTE(sampling_strategy=0.7)\n",
        "x1,y1 = oversampler.fit_resample(xtrain,ytrain)\n",
        "#undersampler = RandomUnderSampler(sampling_strategy=0.4)\n",
        "#x,y = undersampler.fit_resample(x1,y1)\n",
        "x,y=x1,y1\n",
        "# steps = [('o', oversampler),('u', undersampler)]\n",
        "# pipeline = Pipeline(steps=steps)\n",
        "#transform the dataset\n",
        "# x, y = pipeline.fit_resample(xtrain,ytrain)\n",
        "# b_smote = BorderlineSMOTE(sampling_strategy=0.4)\n",
        "# x,y = b_smote.fit_resample(xtrain,ytrain)\n",
        "\n",
        "#undersampler = RandomUnderSampler(sampling_strategy=0.6)\n",
        "#x,y = undersampler.fit_resample(x1,y1)\n",
        "result_df = classification3(x,y,xtest,ytest)\n",
        "result_df"
      ],
      "execution_count": null,
      "outputs": [
        {
          "output_type": "execute_result",
          "data": {
            "text/html": [
              "<div>\n",
              "<style scoped>\n",
              "    .dataframe tbody tr th:only-of-type {\n",
              "        vertical-align: middle;\n",
              "    }\n",
              "\n",
              "    .dataframe tbody tr th {\n",
              "        vertical-align: top;\n",
              "    }\n",
              "\n",
              "    .dataframe thead th {\n",
              "        text-align: right;\n",
              "    }\n",
              "</style>\n",
              "<table border=\"1\" class=\"dataframe\">\n",
              "  <thead>\n",
              "    <tr style=\"text-align: right;\">\n",
              "      <th></th>\n",
              "      <th>0</th>\n",
              "    </tr>\n",
              "  </thead>\n",
              "  <tbody>\n",
              "    <tr>\n",
              "      <th>SVM-lin</th>\n",
              "      <td>0</td>\n",
              "    </tr>\n",
              "    <tr>\n",
              "      <th>SVM-polynomial</th>\n",
              "      <td>0</td>\n",
              "    </tr>\n",
              "    <tr>\n",
              "      <th>SVM-RBF</th>\n",
              "      <td>0</td>\n",
              "    </tr>\n",
              "    <tr>\n",
              "      <th>Naive-Gaussian</th>\n",
              "      <td>100</td>\n",
              "    </tr>\n",
              "    <tr>\n",
              "      <th>Naive-Complement</th>\n",
              "      <td>0</td>\n",
              "    </tr>\n",
              "    <tr>\n",
              "      <th>Decision-Tree</th>\n",
              "      <td>0</td>\n",
              "    </tr>\n",
              "    <tr>\n",
              "      <th>Random Forest</th>\n",
              "      <td>0</td>\n",
              "    </tr>\n",
              "    <tr>\n",
              "      <th>Ext Tree</th>\n",
              "      <td>0</td>\n",
              "    </tr>\n",
              "    <tr>\n",
              "      <th>Voting</th>\n",
              "      <td>0</td>\n",
              "    </tr>\n",
              "  </tbody>\n",
              "</table>\n",
              "</div>"
            ],
            "text/plain": [
              "                    0\n",
              "SVM-lin             0\n",
              "SVM-polynomial      0\n",
              "SVM-RBF             0\n",
              "Naive-Gaussian    100\n",
              "Naive-Complement    0\n",
              "Decision-Tree       0\n",
              "Random Forest       0\n",
              "Ext Tree            0\n",
              "Voting              0"
            ]
          },
          "metadata": {},
          "execution_count": 37
        }
      ]
    },
    {
      "cell_type": "code",
      "metadata": {
        "colab": {
          "base_uri": "https://localhost:8080/",
          "height": 328
        },
        "id": "ee1L0bq9H0Eb",
        "outputId": "0e11fd0a-8c6f-42b7-8ab6-933b6d9c957a"
      },
      "source": [
        "d = pd.DataFrame(0, index=result_df.index,columns=result_df.columns)\n",
        "d"
      ],
      "execution_count": null,
      "outputs": [
        {
          "output_type": "execute_result",
          "data": {
            "text/html": [
              "<div>\n",
              "<style scoped>\n",
              "    .dataframe tbody tr th:only-of-type {\n",
              "        vertical-align: middle;\n",
              "    }\n",
              "\n",
              "    .dataframe tbody tr th {\n",
              "        vertical-align: top;\n",
              "    }\n",
              "\n",
              "    .dataframe thead th {\n",
              "        text-align: right;\n",
              "    }\n",
              "</style>\n",
              "<table border=\"1\" class=\"dataframe\">\n",
              "  <thead>\n",
              "    <tr style=\"text-align: right;\">\n",
              "      <th></th>\n",
              "      <th>Accuracy</th>\n",
              "      <th>Precision</th>\n",
              "      <th>Recall</th>\n",
              "      <th>MAE</th>\n",
              "      <th>True Neg</th>\n",
              "      <th>False Pos</th>\n",
              "      <th>False Neg</th>\n",
              "      <th>True Pos</th>\n",
              "    </tr>\n",
              "  </thead>\n",
              "  <tbody>\n",
              "    <tr>\n",
              "      <th>SVM-lin</th>\n",
              "      <td>0</td>\n",
              "      <td>0</td>\n",
              "      <td>0</td>\n",
              "      <td>0</td>\n",
              "      <td>0</td>\n",
              "      <td>0</td>\n",
              "      <td>0</td>\n",
              "      <td>0</td>\n",
              "    </tr>\n",
              "    <tr>\n",
              "      <th>SVM-polynomial</th>\n",
              "      <td>0</td>\n",
              "      <td>0</td>\n",
              "      <td>0</td>\n",
              "      <td>0</td>\n",
              "      <td>0</td>\n",
              "      <td>0</td>\n",
              "      <td>0</td>\n",
              "      <td>0</td>\n",
              "    </tr>\n",
              "    <tr>\n",
              "      <th>SVM-RBF</th>\n",
              "      <td>0</td>\n",
              "      <td>0</td>\n",
              "      <td>0</td>\n",
              "      <td>0</td>\n",
              "      <td>0</td>\n",
              "      <td>0</td>\n",
              "      <td>0</td>\n",
              "      <td>0</td>\n",
              "    </tr>\n",
              "    <tr>\n",
              "      <th>Naive-Gaussian</th>\n",
              "      <td>0</td>\n",
              "      <td>0</td>\n",
              "      <td>0</td>\n",
              "      <td>0</td>\n",
              "      <td>0</td>\n",
              "      <td>0</td>\n",
              "      <td>0</td>\n",
              "      <td>0</td>\n",
              "    </tr>\n",
              "    <tr>\n",
              "      <th>Naive-Complement</th>\n",
              "      <td>0</td>\n",
              "      <td>0</td>\n",
              "      <td>0</td>\n",
              "      <td>0</td>\n",
              "      <td>0</td>\n",
              "      <td>0</td>\n",
              "      <td>0</td>\n",
              "      <td>0</td>\n",
              "    </tr>\n",
              "    <tr>\n",
              "      <th>Decision-Tree</th>\n",
              "      <td>0</td>\n",
              "      <td>0</td>\n",
              "      <td>0</td>\n",
              "      <td>0</td>\n",
              "      <td>0</td>\n",
              "      <td>0</td>\n",
              "      <td>0</td>\n",
              "      <td>0</td>\n",
              "    </tr>\n",
              "    <tr>\n",
              "      <th>Random Forest</th>\n",
              "      <td>0</td>\n",
              "      <td>0</td>\n",
              "      <td>0</td>\n",
              "      <td>0</td>\n",
              "      <td>0</td>\n",
              "      <td>0</td>\n",
              "      <td>0</td>\n",
              "      <td>0</td>\n",
              "    </tr>\n",
              "    <tr>\n",
              "      <th>Ext Tree</th>\n",
              "      <td>0</td>\n",
              "      <td>0</td>\n",
              "      <td>0</td>\n",
              "      <td>0</td>\n",
              "      <td>0</td>\n",
              "      <td>0</td>\n",
              "      <td>0</td>\n",
              "      <td>0</td>\n",
              "    </tr>\n",
              "    <tr>\n",
              "      <th>Voting</th>\n",
              "      <td>0</td>\n",
              "      <td>0</td>\n",
              "      <td>0</td>\n",
              "      <td>0</td>\n",
              "      <td>0</td>\n",
              "      <td>0</td>\n",
              "      <td>0</td>\n",
              "      <td>0</td>\n",
              "    </tr>\n",
              "  </tbody>\n",
              "</table>\n",
              "</div>"
            ],
            "text/plain": [
              "                  Accuracy  Precision  Recall  ...  False Pos  False Neg  True Pos\n",
              "SVM-lin                  0          0       0  ...          0          0         0\n",
              "SVM-polynomial           0          0       0  ...          0          0         0\n",
              "SVM-RBF                  0          0       0  ...          0          0         0\n",
              "Naive-Gaussian           0          0       0  ...          0          0         0\n",
              "Naive-Complement         0          0       0  ...          0          0         0\n",
              "Decision-Tree            0          0       0  ...          0          0         0\n",
              "Random Forest            0          0       0  ...          0          0         0\n",
              "Ext Tree                 0          0       0  ...          0          0         0\n",
              "Voting                   0          0       0  ...          0          0         0\n",
              "\n",
              "[9 rows x 8 columns]"
            ]
          },
          "metadata": {},
          "execution_count": 43
        }
      ]
    },
    {
      "cell_type": "code",
      "metadata": {
        "id": "wfdGNvxYgKd4"
      },
      "source": [
        "sbn.countplot(ytrain)\n",
        "np.unique(sub_ID)"
      ],
      "execution_count": null,
      "outputs": []
    },
    {
      "cell_type": "code",
      "metadata": {
        "id": "4xV8JhB-Hs-k"
      },
      "source": [
        "from sklearn.metrics import roc_curve, auc\n",
        "from sklearn.metrics import roc_auc_score\n",
        "\n",
        "# xtrain, xtest, ytrain, ytest = train_test_split(all_sub_features,target_labels, test_size = 0.3, stratify=target_labels)\n",
        "clf1 = svm.SVC(kernel='rbf')\n",
        "clf2 = ExtraTreesClassifier(n_estimators = 100)\n",
        "clf3 = DecisionTreeClassifier()\n",
        "clf4 = RandomForestClassifier(n_estimators = 100)\n",
        "eclf = VotingClassifier(estimators =[('a',clf1),('b',clf2),('c',clf3),('d',clf4)])\n",
        "eclf.fit(xtrain,ytrain)\n",
        "clf1.fit(x,y)\n",
        "y_score = clf1.decision_function(xtest)\n",
        "\n",
        "fpr, tpr, thresholds = roc_curve(np.logical_not(ytest), y_score)\n",
        "auc = auc(fpr, tpr)\n",
        "print('auc =', auc)\n",
        "\n",
        "plt.figure()\n",
        "plt.title('Receiver Operating Characteristic')\n",
        "plt.plot(fpr, tpr, 'b',\n",
        "label='AUC = %0.2f'% auc)\n",
        "plt.legend(loc='lower right')\n",
        "plt.plot([0,1],[0,1],'r--')\n",
        "plt.xlim([-0.1,1.2])\n",
        "plt.ylim([-0.1,1.2])\n",
        "plt.ylabel('True Positive Rate')\n",
        "plt.xlabel('False Positive Rate')\n",
        "plt.show()\n",
        "\n",
        "roc_auc_score(ytest, y_score)"
      ],
      "execution_count": null,
      "outputs": []
    }
  ]
}
